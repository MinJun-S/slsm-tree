{
 "cells": [
  {
   "cell_type": "markdown",
   "id": "eb600d7a",
   "metadata": {},
   "source": [
    "## Main random datasets (모든 범위)\n",
    "- x : 125 ~ 131\n",
    "- y : 33 ~ 38"
   ]
  },
  {
   "cell_type": "code",
   "execution_count": 24,
   "id": "d844c660",
   "metadata": {},
   "outputs": [
    {
     "name": "stdout",
     "output_type": "stream",
     "text": [
      "1000000\n"
     ]
    }
   ],
   "source": [
    "import random \n",
    "\n",
    "num= int(input())\n",
    "f = open(\"sample_data.txt\", 'w')\n",
    "for i in range(0,num): \n",
    "    x=random.uniform(125.06666668,131.87222221)\n",
    "    y=random.uniform(33.11000000,38.44000000)\n",
    "    f.write(\"p %f %f\\n\"%(x,y))\n",
    "\n",
    "f.close()\n"
   ]
  },
  {
   "cell_type": "code",
   "execution_count": 3,
   "id": "140d2623",
   "metadata": {},
   "outputs": [
    {
     "data": {
      "text/plain": [
       "-3.402777764999996"
      ]
     },
     "execution_count": 3,
     "metadata": {},
     "output_type": "execute_result"
    }
   ],
   "source": [
    "(125.06666668-131.87222221)/2"
   ]
  },
  {
   "cell_type": "markdown",
   "id": "f2dbaa74",
   "metadata": {},
   "source": [
    "---\n",
    "ㅡㅡㅡㅡㅡㅡㅡㅡㅡㅡㅡㅡㅡㅡㅡㅡㅡㅡㅡㅡㅡㅡㅡㅡㅡㅡㅡㅡㅡㅡㅡㅡㅡㅡㅡㅡㅡㅡㅡㅡㅡㅡ\n",
    "---"
   ]
  },
  {
   "cell_type": "markdown",
   "id": "a8e24a17",
   "metadata": {},
   "source": [
    "## Test random datasets - (a-1 : level 1_0 쪽으로만 Flush)\n",
    "- x : 125.06666668 ~ 128.469444445\n",
    "- y : 33.11000000 ~ 35.775"
   ]
  },
  {
   "cell_type": "code",
   "execution_count": 18,
   "id": "8113bbf5",
   "metadata": {},
   "outputs": [
    {
     "name": "stdout",
     "output_type": "stream",
     "text": [
      "10000\n"
     ]
    }
   ],
   "source": [
    "import random \n",
    "\n",
    "num= int(input())\n",
    "f = open(\"sample_data.txt\", 'w')\n",
    "for i in range(0,num): \n",
    "    x=random.uniform(125.06666668,131.87222221-(131.87222221-125.06666668)/2)\n",
    "    y=random.uniform(33.11000000,38.44000000-(38.44000000-33.110000000)/2)\n",
    "    f.write(\"p %f %f\\n\"%(x,y))\n",
    "\n",
    "f.close()\n"
   ]
  },
  {
   "cell_type": "code",
   "execution_count": 17,
   "id": "334cc1f4",
   "metadata": {},
   "outputs": [
    {
     "data": {
      "text/plain": [
       "35.775000000999995"
      ]
     },
     "execution_count": 17,
     "metadata": {},
     "output_type": "execute_result"
    }
   ],
   "source": [
    "a = (38.44000000-(38.44000000-33.110000000)/2)+0.000000001\n",
    "a"
   ]
  },
  {
   "cell_type": "markdown",
   "id": "c8ead31e",
   "metadata": {},
   "source": [
    "## Test random datasets - (a-2 : level 1_3 쪽에 10개정도 point data)\n",
    "- x : 128.469444446 ~ 131.87222221\n",
    "- y : 35.77500001 ~ 38.44000000"
   ]
  },
  {
   "cell_type": "code",
   "execution_count": 19,
   "id": "443552fc",
   "metadata": {},
   "outputs": [],
   "source": [
    "import random \n",
    "\n",
    "num= 10\n",
    "f = open(\"sample_data_Test.txt\", 'w')\n",
    "for i in range(0,num): \n",
    "    x=random.uniform((131.87222221-(131.87222221-125.06666668)/2)+0.000000001,131.87222221)\n",
    "    y=random.uniform((38.44000000-(38.44000000-33.110000000)/2)+0.000000001,38.44000000)\n",
    "    f.write(\"p %f %f\\n\"%(x,y))\n",
    "\n",
    "f.close()\n"
   ]
  },
  {
   "cell_type": "markdown",
   "id": "6bdea196",
   "metadata": {},
   "source": [
    "---\n",
    "ㅡㅡㅡㅡㅡㅡㅡㅡㅡㅡㅡㅡㅡㅡㅡㅡㅡㅡㅡㅡㅡㅡㅡㅡㅡㅡㅡㅡㅡㅡㅡㅡㅡㅡㅡㅡㅡㅡㅡㅡㅡㅡ\n",
    "---"
   ]
  },
  {
   "cell_type": "markdown",
   "id": "fe53ea19",
   "metadata": {},
   "source": [
    "## Test random datasets - (B-1 : level 1_0을 제외한 모든 곳에 데이터 분포시킴)\n",
    "- x : (125.06666668 ~ 128.469444445) & (128.469444445 ~ 131.87222221)\n",
    "- y : (35.775 ~ 38.44000000) & (33.11000000 ~ 38.44000000)"
   ]
  },
  {
   "cell_type": "code",
   "execution_count": 38,
   "id": "05c558ab",
   "metadata": {},
   "outputs": [
    {
     "name": "stdout",
     "output_type": "stream",
     "text": [
      "200000\n"
     ]
    }
   ],
   "source": [
    "import random \n",
    "\n",
    "num= int(input())\n",
    "f = open(\"sample_data.txt\", 'w')\n",
    "# 1_1 부분\n",
    "# for i in range(0,num): \n",
    "#     x=random.uniform(125.06666668,131.87222221-(131.87222221-125.06666668)/2)\n",
    "#     y=random.uniform((38.44000000-(38.44000000-33.110000000)/2)+0.000000001,38.44000000)\n",
    "#     f.write(\"p %f %f\\n\"%(x,y))\n",
    "\n",
    "# 1_2, 1_3부분\n",
    "for i in range(0,num): \n",
    "    x=random.uniform((131.87222221-(131.87222221-125.06666668)/2)+0.000000001,131.87222221)\n",
    "    y=random.uniform(34.11000000,38.44000000)\n",
    "    f.write(\"p %f %f\\n\"%(x,y))\n",
    "\n",
    "f.close()\n"
   ]
  },
  {
   "cell_type": "code",
   "execution_count": 31,
   "id": "1e4840c8",
   "metadata": {},
   "outputs": [
    {
     "data": {
      "text/plain": [
       "35.775000000999995"
      ]
     },
     "execution_count": 31,
     "metadata": {},
     "output_type": "execute_result"
    }
   ],
   "source": [
    "a = (38.44000000-(38.44000000-33.110000000)/2)+0.000000001\n",
    "a"
   ]
  },
  {
   "cell_type": "markdown",
   "id": "a6ebdbe5",
   "metadata": {},
   "source": [
    "## Test random datasets - (B-2 : level 2_0 쪽에만 20개 point data) \n",
    "- x : 125.06666668 ~ 126.7680555625\n",
    "- y : 33.11000000 ~ 34.44249999999"
   ]
  },
  {
   "cell_type": "code",
   "execution_count": 39,
   "id": "d7faf34b",
   "metadata": {},
   "outputs": [],
   "source": [
    "import random \n",
    "\n",
    "num= 10\n",
    "f = open(\"sample_data_Test.txt\", 'w')\n",
    "for i in range(0,num): \n",
    "    x=random.uniform(125.06666668,131.87222221-((131.87222221-125.06666668)/4)*3)\n",
    "    y=random.uniform(33.11000000,38.44000000-((38.44000000-33.110000000)/4)*3)\n",
    "    f.write(\"p %f %f\\n\"%(x,y))\n",
    "\n",
    "f.close()\n"
   ]
  },
  {
   "cell_type": "code",
   "execution_count": null,
   "id": "5b5b785d",
   "metadata": {},
   "outputs": [],
   "source": []
  },
  {
   "cell_type": "code",
   "execution_count": 34,
   "id": "53795af5",
   "metadata": {},
   "outputs": [
    {
     "data": {
      "text/plain": [
       "34.442499999999995"
      ]
     },
     "execution_count": 34,
     "metadata": {},
     "output_type": "execute_result"
    }
   ],
   "source": [
    "a = 38.44000000-((38.44000000-33.110000000)/4)*3\n",
    "a"
   ]
  },
  {
   "cell_type": "code",
   "execution_count": null,
   "id": "9c5059d3",
   "metadata": {},
   "outputs": [],
   "source": []
  },
  {
   "cell_type": "code",
   "execution_count": null,
   "id": "c4070506",
   "metadata": {},
   "outputs": [],
   "source": []
  },
  {
   "cell_type": "code",
   "execution_count": null,
   "id": "6021784a",
   "metadata": {},
   "outputs": [],
   "source": []
  },
  {
   "cell_type": "code",
   "execution_count": null,
   "id": "c9aeab04",
   "metadata": {},
   "outputs": [],
   "source": []
  },
  {
   "cell_type": "code",
   "execution_count": null,
   "id": "88646537",
   "metadata": {},
   "outputs": [],
   "source": []
  }
 ],
 "metadata": {
  "kernelspec": {
   "display_name": "Python 3 (ipykernel)",
   "language": "python",
   "name": "python3"
  },
  "language_info": {
   "codemirror_mode": {
    "name": "ipython",
    "version": 3
   },
   "file_extension": ".py",
   "mimetype": "text/x-python",
   "name": "python",
   "nbconvert_exporter": "python",
   "pygments_lexer": "ipython3",
   "version": "3.8.12"
  }
 },
 "nbformat": 4,
 "nbformat_minor": 5
}
