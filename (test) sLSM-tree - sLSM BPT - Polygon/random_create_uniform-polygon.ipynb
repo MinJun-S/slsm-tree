{
 "cells": [
  {
   "cell_type": "markdown",
   "id": "0e9eb409",
   "metadata": {},
   "source": [
    "# Uniform - Point Data 생성 원본"
   ]
  },
  {
   "cell_type": "code",
   "execution_count": 1,
   "id": "d844c660",
   "metadata": {},
   "outputs": [
    {
     "name": "stdout",
     "output_type": "stream",
     "text": [
      "10000\n"
     ]
    }
   ],
   "source": [
    "import random \n",
    "\n",
    "num= int(input())\n",
    "f = open(\"sample_data.txt\", 'w')\n",
    "for i in range(0,num): \n",
    "    x=random.uniform(125.06666668,131.87222221)\n",
    "    y=random.uniform(33.11000000,38.44000000)\n",
    "    f.write(\"p %f %f\\n\"%(x,y))\n",
    "\n",
    "f.close()\n"
   ]
  },
  {
   "cell_type": "code",
   "execution_count": null,
   "id": "4b83f3ab",
   "metadata": {},
   "outputs": [],
   "source": []
  },
  {
   "cell_type": "markdown",
   "id": "c536353d",
   "metadata": {},
   "source": [
    "# Uniform - Polygon 생성 - MBR의 한 변의 길이를 Comp의 한변의 길이보다 작게"
   ]
  },
  {
   "attachments": {
    "image-2.png": {
     "image/png": "[encoded data removed]"
    }
   },
   "cell_type": "markdown",
   "id": "f7b96bed",
   "metadata": {},
   "source": [
    "* Polygon을 감싸는 MBR을 기준으로 sLSM-BPT를 빌드한다 (교수님 말씀)\n",
    "\n",
    "* 따라서 MBR (SW NW SE NE)를 만들어주자\n",
    "\n",
    "* 이때 MBR 한 변의 길이를 전체 범위를 64분할 했을 때(level 3기준) 한 Component의 한 변의 길이보다 작게 랜덤으로 해서 만들어준다\n",
    "  - 그래야 overlap 계산할 때 편함 (mbr 한 변이 최대 2개 component와 오버랩됨)\n",
    "  - 그리고 MBR은 정사각형이 아니도록 다르게 랜덤값 부여\n",
    "\n",
    "* 그리고 sw 생성 시 max_x와 max_y값을 (기존 최대 길이 - Comp 한 변 길이)로 해줘야함 -> ne 계산 시 out of range\n",
    "  - 어쩔수 없어 방법이 없음\n",
    "  \n",
    "![image-2.png](attachment:image-2.png)"
   ]
  },
  {
   "cell_type": "markdown",
   "id": "3e20be23",
   "metadata": {},
   "source": [
    "* 그리고 sw 생성 시 max_x와 max_y값을 (기존 최대 길이 - Comp 한 변 길이)로 해줘야함 -> ne 계산 시 out of range\n",
    "* 얘 때문에 나눠서 생성하자 (번갈아가면서 생성되도록)\n",
    "  - 생성 범위를 왼쪽 아래 => 오른쪽 위 대각선으로 올라가면서 형성\n",
    "  - 생성 범위를 왼쪽 아래 <= 오른쪽 위 대각선으로 내려가면서 형성\n"
   ]
  },
  {
   "cell_type": "markdown",
   "id": "10c8ede8",
   "metadata": {},
   "source": [
    "### SW NW SE NE 전부 생성 ver"
   ]
  },
  {
   "cell_type": "code",
   "execution_count": 26,
   "id": "70acc4ce",
   "metadata": {},
   "outputs": [
    {
     "name": "stdout",
     "output_type": "stream",
     "text": [
      "500000\n"
     ]
    }
   ],
   "source": [
    "import random \n",
    "\n",
    "num= int(input())\n",
    "f = open(\"sample_data.txt\", 'w')\n",
    "\n",
    "num /= 2\n",
    "\n",
    "for i in range(0,int(num)): \n",
    "    ### 생성 범위를 왼쪽 아래 => 오른쪽 위 대각선으로 올라가면서 형성 ###\n",
    "    # Compute Random dist_x dist_y (= 64분할된 Component의 한 변보다 작게)\n",
    "    dist_x=random.uniform(0, 0.850694)\n",
    "    dist_y=random.uniform(0, 0.666249)\n",
    "    \n",
    "    \n",
    "    # Create SW = LB = [0] = 기준점 (x, y)\n",
    "    sw_x=random.uniform(125.06666668,131.87222221 - 0.850694)\n",
    "    sw_y=random.uniform(33.11000000,38.44000000 - 0.666249)\n",
    "    \n",
    "    # Create NW = [1] =  (x, y + B) \n",
    "    nw_x=sw_x\n",
    "    nw_y=sw_y + dist_y\n",
    "    \n",
    "    # Create SE = [2] =  (x + A, y) \n",
    "    se_x=sw_x + dist_x\n",
    "    se_y=sw_y\n",
    "    \n",
    "    # Create SE = [3] =  (x + A, y + B) \n",
    "    ne_x=sw_x + dist_x\n",
    "    ne_y=sw_y + dist_y\n",
    "    \n",
    "    f.write(\"p %f %f, %f %f, %f %f, %f %f\\n\"%(sw_x, sw_y, nw_x, nw_y, se_x, se_y, ne_x, ne_y))\n",
    "    \n",
    "    \n",
    "    ### 생성 범위를 왼쪽 아래 => 오른쪽 위 대각선으로 올라가면서 형성 ###\n",
    "    # Compute Random dist_x dist_y (= 64분할된 Component의 한 변보다 작게)\n",
    "    dist_x=random.uniform(0, 0.850694)\n",
    "    dist_y=random.uniform(0, 0.666249)\n",
    "    \n",
    "    \n",
    "    # Create SW = LB = [3] = 기준점 (x, y)\n",
    "    ne_x=random.uniform(125.06666668 + 0.850694,131.87222221)\n",
    "    ne_y=random.uniform(33.11000000 + 0.666249,38.44000000)\n",
    "    \n",
    "    # Create SE = [2] =  (x, y - B) \n",
    "    se_x=ne_x\n",
    "    se_y=ne_y - dist_y\n",
    "    \n",
    "    # Create NW = [1] =  (x - A, y) \n",
    "    nw_x=ne_x - dist_x\n",
    "    nw_y=ne_y\n",
    "        \n",
    "    # Create SW = [0] =  (x - A, y - B) \n",
    "    sw_x=ne_x - dist_x\n",
    "    sw_y=ne_y - dist_y\n",
    "    \n",
    "    f.write(\"p %f %f, %f %f, %f %f, %f %f\\n\"%(sw_x, sw_y, nw_x, nw_y, se_x, se_y, ne_x, ne_y))\n",
    "    \n",
    "    \n",
    "    \n",
    "\n",
    "f.close()\n"
   ]
  },
  {
   "cell_type": "markdown",
   "id": "8abd4833",
   "metadata": {},
   "source": [
    "### SW NE만 생성 ver"
   ]
  },
  {
   "cell_type": "code",
   "execution_count": 31,
   "id": "58a2abc7",
   "metadata": {},
   "outputs": [
    {
     "name": "stdout",
     "output_type": "stream",
     "text": [
      "500000\n"
     ]
    }
   ],
   "source": [
    "import random \n",
    "\n",
    "num= int(input())\n",
    "f = open(\"sample_data.txt\", 'w')\n",
    "\n",
    "num /= 2\n",
    "\n",
    "for i in range(0,int(num)): \n",
    "    ### 생성 범위를 왼쪽 아래 => 오른쪽 위 대각선으로 올라가면서 형성 ###\n",
    "    # Compute Random dist_x dist_y (= 64분할된 Component의 한 변보다 작게)\n",
    "    dist_x=random.uniform(0, 0.850694)\n",
    "    dist_y=random.uniform(0, 0.666249)\n",
    "    \n",
    "    \n",
    "    # Create SW = LB = [0] = 기준점 (x, y)\n",
    "    sw_x=random.uniform(125.06666668,131.87222221 - 0.850694)\n",
    "    sw_y=random.uniform(33.11000000,38.44000000 - 0.666249)\n",
    "    \n",
    "    # Create SE = [3] =  (x + A, y + B) \n",
    "    ne_x=sw_x + dist_x\n",
    "    ne_y=sw_y + dist_y\n",
    "    \n",
    "    f.write(\"p %f %f, %f %f\\n\"%(sw_x, sw_y, ne_x, ne_y))\n",
    "    \n",
    "    \n",
    "    ### 생성 범위를 왼쪽 아래 => 오른쪽 위 대각선으로 올라가면서 형성 ###\n",
    "    # Compute Random dist_x dist_y (= 64분할된 Component의 한 변보다 작게)\n",
    "    dist_x=random.uniform(0, 0.850694)\n",
    "    dist_y=random.uniform(0, 0.666249)\n",
    "    \n",
    "    \n",
    "    # Create SW = LB = [3] = 기준점 (x, y)\n",
    "    ne_x=random.uniform(125.06666668 + 0.850694,131.87222221)\n",
    "    ne_y=random.uniform(33.11000000 + 0.666249,38.44000000)\n",
    "            \n",
    "    # Create SW = [0] =  (x - A, y - B) \n",
    "    sw_x=ne_x - dist_x\n",
    "    sw_y=ne_y - dist_y\n",
    "    \n",
    "    f.write(\"p %f %f, %f %f\\n\"%(sw_x, sw_y, ne_x, ne_y))\n",
    "        \n",
    "\n",
    "f.close()\n"
   ]
  },
  {
   "cell_type": "code",
   "execution_count": 27,
   "id": "0d0ea83d",
   "metadata": {},
   "outputs": [
    {
     "data": {
      "text/plain": [
       "131.02152820999999"
      ]
     },
     "execution_count": 27,
     "metadata": {},
     "output_type": "execute_result"
    }
   ],
   "source": [
    "131.87222221 - 0.850694"
   ]
  },
  {
   "cell_type": "code",
   "execution_count": 29,
   "id": "197e4cd6",
   "metadata": {},
   "outputs": [
    {
     "name": "stdout",
     "output_type": "stream",
     "text": [
      "6.805555529999992\n",
      "0.850694441249999\n",
      "\n",
      "5.329999999999998\n",
      "0.6662499999999998\n",
      "\n",
      "8.644332598408825\n"
     ]
    }
   ],
   "source": [
    "# x축 총 길이\n",
    "total_x = 131.87222221 - 125.06666668\n",
    "print(total_x)\n",
    "\n",
    "# 64분할 시 한 Component의 x길이 = 0.850694   -> x축엔 이거보다 작은 랜덤값을 생성해서 더해주고\n",
    "print(total_x / 8)\n",
    "print()\n",
    "\n",
    "# y축 총 길이\n",
    "total_y = 38.44000000 - 33.11000000\n",
    "print(total_y)\n",
    "\n",
    "# 64분할 시 한 Component의 y길이 = 0.666249   -> y축엔 이거보다 작은 랜덤값을 생성해서 더해주고\n",
    "print(total_y / 8)\n",
    "print()\n",
    "\n",
    "# 대각선 총 길이\n",
    "import math\n",
    "print(math.sqrt(total_x**2 + total_y**2))"
   ]
  },
  {
   "cell_type": "code",
   "execution_count": null,
   "id": "794c049c",
   "metadata": {},
   "outputs": [],
   "source": []
  },
  {
   "cell_type": "code",
   "execution_count": 13,
   "id": "f594d3aa",
   "metadata": {},
   "outputs": [
    {
     "data": {
      "text/plain": [
       "64"
      ]
     },
     "execution_count": 13,
     "metadata": {},
     "output_type": "execute_result"
    }
   ],
   "source": [
    "pow(4, 3)"
   ]
  },
  {
   "cell_type": "code",
   "execution_count": null,
   "id": "ef063b1e",
   "metadata": {},
   "outputs": [],
   "source": []
  },
  {
   "cell_type": "code",
   "execution_count": null,
   "id": "fc3badf0",
   "metadata": {},
   "outputs": [],
   "source": []
  },
  {
   "cell_type": "markdown",
   "id": "805ac31a",
   "metadata": {},
   "source": [
    "# Uniform - Polygon 생성 - MBR의 한 변의 길이를 Comp의 한변의 길이보다 작게"
   ]
  },
  {
   "cell_type": "code",
   "execution_count": null,
   "id": "21660d9f",
   "metadata": {},
   "outputs": [],
   "source": []
  },
  {
   "cell_type": "code",
   "execution_count": null,
   "id": "bb84791c",
   "metadata": {},
   "outputs": [],
   "source": []
  },
  {
   "cell_type": "code",
   "execution_count": null,
   "id": "ba825e25",
   "metadata": {},
   "outputs": [],
   "source": []
  },
  {
   "cell_type": "code",
   "execution_count": null,
   "id": "6c72391a",
   "metadata": {},
   "outputs": [],
   "source": []
  },
  {
   "cell_type": "code",
   "execution_count": null,
   "id": "f2542add",
   "metadata": {},
   "outputs": [],
   "source": []
  },
  {
   "cell_type": "code",
   "execution_count": null,
   "id": "eca6c16f",
   "metadata": {},
   "outputs": [],
   "source": []
  },
  {
   "cell_type": "code",
   "execution_count": null,
   "id": "e7b8bceb",
   "metadata": {},
   "outputs": [],
   "source": []
  }
 ],
 "metadata": {
  "kernelspec": {
   "display_name": "Python 3 (ipykernel)",
   "language": "python",
   "name": "python3"
  },
  "language_info": {
   "codemirror_mode": {
    "name": "ipython",
    "version": 3
   },
   "file_extension": ".py",
   "mimetype": "text/x-python",
   "name": "python",
   "nbconvert_exporter": "python",
   "pygments_lexer": "ipython3",
   "version": "3.9.7"
  }
 },
 "nbformat": 4,
 "nbformat_minor": 5
}
