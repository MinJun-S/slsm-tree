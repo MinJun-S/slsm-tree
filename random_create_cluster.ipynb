{
 "cells": [
  {
   "cell_type": "markdown",
   "id": "c88f4017",
   "metadata": {},
   "source": [
    "## Main random datasets (모든 범위)\n",
    "- x : 125 ~ 131\n",
    "- y : 33 ~ 38"
   ]
  },
  {
   "cell_type": "code",
   "execution_count": 2,
   "id": "d844c660",
   "metadata": {},
   "outputs": [
    {
     "name": "stdout",
     "output_type": "stream",
     "text": [
      "9000000\n"
     ]
    }
   ],
   "source": [
    "import random \n",
    "\n",
    "num= int(input())\n",
    "f = open(\"sample_data.txt\", 'w')\n",
    "for i in range(0,num): \n",
    "    x=random.uniform(125.06666668,131.87222221)\n",
    "    y=random.uniform(33.11000000,38.44000000)\n",
    "    f.write(\"p %f %f\\n\"%(x,y))\n",
    "\n",
    "f.close()\n"
   ]
  },
  {
   "cell_type": "code",
   "execution_count": 12,
   "id": "140d2623",
   "metadata": {},
   "outputs": [
    {
     "data": {
      "text/plain": [
       "408"
      ]
     },
     "execution_count": 12,
     "metadata": {},
     "output_type": "execute_result"
    }
   ],
   "source": [
    "import sys\n",
    "\n",
    "sys.getsizeof(int)"
   ]
  },
  {
   "cell_type": "code",
   "execution_count": 10,
   "id": "c68e739d",
   "metadata": {},
   "outputs": [
    {
     "data": {
      "text/plain": [
       "11930.2265625"
      ]
     },
     "execution_count": 10,
     "metadata": {},
     "output_type": "execute_result"
    }
   ],
   "source": [
    "12216552 / 1024"
   ]
  },
  {
   "cell_type": "markdown",
   "id": "010b3c2c",
   "metadata": {},
   "source": [
    "---\n",
    "ㅡㅡㅡㅡㅡㅡㅡㅡㅡㅡㅡㅡㅡㅡㅡㅡㅡㅡㅡㅡㅡㅡㅡㅡㅡㅡㅡㅡㅡㅡㅡㅡㅡㅡㅡㅡㅡㅡㅡㅡㅡㅡ\n",
    "---"
   ]
  },
  {
   "cell_type": "markdown",
   "id": "ba686991",
   "metadata": {},
   "source": [
    "## Test random datasets - (a-1 : level 1_0 쪽으로만 Flush)\n",
    "- x : 125.06666668 ~ 128.469444445\n",
    "- y : 33.11000000 ~ 35.775"
   ]
  },
  {
   "cell_type": "code",
   "execution_count": 1,
   "id": "8113bbf5",
   "metadata": {},
   "outputs": [
    {
     "name": "stdout",
     "output_type": "stream",
     "text": [
      "5\n"
     ]
    }
   ],
   "source": [
    "import random \n",
    "\n",
    "num= int(input())\n",
    "f = open(\"sample_data.txt\", 'w')\n",
    "for i in range(0,num): \n",
    "    x=random.uniform(125.06666668,131.87222221-(131.87222221-125.06666668)/2)\n",
    "    y=random.uniform(33.11000000,38.44000000-(38.44000000-33.110000000)/2)\n",
    "    f.write(\"p %f %f\\n\"%(x,y))\n",
    "\n",
    "f.close()\n"
   ]
  },
  {
   "cell_type": "code",
   "execution_count": 17,
   "id": "96ae80de",
   "metadata": {},
   "outputs": [
    {
     "data": {
      "text/plain": [
       "35.775000000999995"
      ]
     },
     "execution_count": 17,
     "metadata": {},
     "output_type": "execute_result"
    }
   ],
   "source": [
    "a = (38.44000000-(38.44000000-33.110000000)/2)+0.000000001\n",
    "a"
   ]
  },
  {
   "cell_type": "markdown",
   "id": "38349bf1",
   "metadata": {},
   "source": [
    "## Test random datasets - (a-2 : level 1_3 쪽에 10개정도 point data)\n",
    "- x : 128.469444446 ~ 131.87222221\n",
    "- y : 35.77500001 ~ 38.44000000"
   ]
  },
  {
   "cell_type": "code",
   "execution_count": 10,
   "id": "ab0efae3",
   "metadata": {},
   "outputs": [],
   "source": [
    "import random \n",
    "\n",
    "num= 2500000  # 40만\n",
    "f = open(\"sample_data_1_3333.txt\", 'w')\n",
    "for i in range(0,num): \n",
    "    x=random.uniform((131.87222221-(131.87222221-125.06666668)/2)+0.000000001,131.87222221)\n",
    "    y=random.uniform((38.44000000-(38.44000000-33.110000000)/2)+0.000000001,38.44000000)\n",
    "    f.write(\"p %f %f\\n\"%(x,y))\n",
    "\n",
    "#f.close()\n"
   ]
  },
  {
   "cell_type": "code",
   "execution_count": 2,
   "id": "67a979eb",
   "metadata": {},
   "outputs": [
    {
     "data": {
      "text/plain": [
       "128.46944444599998"
      ]
     },
     "execution_count": 2,
     "metadata": {},
     "output_type": "execute_result"
    }
   ],
   "source": [
    "(131.87222221-(131.87222221-125.06666668)/2)+0.000000001"
   ]
  },
  {
   "cell_type": "code",
   "execution_count": 6,
   "id": "d3360dd2",
   "metadata": {},
   "outputs": [
    {
     "data": {
      "text/plain": [
       "35.775000000999995"
      ]
     },
     "execution_count": 6,
     "metadata": {},
     "output_type": "execute_result"
    }
   ],
   "source": [
    "(38.44000000-(38.44000000-33.110000000)/2)+0.000000001"
   ]
  },
  {
   "cell_type": "markdown",
   "id": "8ee8a262",
   "metadata": {},
   "source": [
    "---\n",
    "ㅡㅡㅡㅡㅡㅡㅡㅡㅡㅡㅡㅡㅡㅡㅡㅡㅡㅡㅡㅡㅡㅡㅡㅡㅡㅡㅡㅡㅡㅡㅡㅡㅡㅡㅡㅡㅡㅡㅡㅡㅡㅡ\n",
    "---"
   ]
  },
  {
   "cell_type": "markdown",
   "id": "1fd1b88b",
   "metadata": {},
   "source": [
    "## Test random datasets - (B-1 : level 1_0을 제외한 모든 곳에 데이터 분포시킴)\n",
    "- x : (125.06666668 ~ 128.469444445) & (128.469444445 ~ 131.87222221)\n",
    "- y : (35.775 ~ 38.44000000) & (33.11000000 ~ 38.44000000)"
   ]
  },
  {
   "cell_type": "code",
   "execution_count": 1,
   "id": "458ce2e5",
   "metadata": {},
   "outputs": [
    {
     "name": "stdout",
     "output_type": "stream",
     "text": [
      "20000\n"
     ]
    }
   ],
   "source": [
    "import random \n",
    "\n",
    "num= int(input())\n",
    "f = open(\"sample_data.txt\", 'w')\n",
    "# 1_1 부분\n",
    "for i in range(0,num): \n",
    "    x=random.uniform(125.06666668,131.87222221-(131.87222221-125.06666668)/2)\n",
    "    y=random.uniform((38.44000000-(38.44000000-33.110000000)/2)+0.000000001,38.44000000)\n",
    "    f.write(\"p %f %f\\n\"%(x,y))\n",
    "\n",
    "# 1_2, 1_3부분\n",
    "for i in range(0,num): \n",
    "    x=random.uniform((131.87222221-(131.87222221-125.06666668)/2)+0.000000001,131.87222221)\n",
    "    y=random.uniform(33.11000000,38.44000000)\n",
    "    f.write(\"p %f %f\\n\"%(x,y))\n",
    "\n",
    "f.close()\n"
   ]
  },
  {
   "cell_type": "code",
   "execution_count": 31,
   "id": "f1a8d3bc",
   "metadata": {},
   "outputs": [
    {
     "data": {
      "text/plain": [
       "35.775000000999995"
      ]
     },
     "execution_count": 31,
     "metadata": {},
     "output_type": "execute_result"
    }
   ],
   "source": [
    "a = (38.44000000-(38.44000000-33.110000000)/2)+0.000000001\n",
    "a"
   ]
  },
  {
   "cell_type": "markdown",
   "id": "f2784c72",
   "metadata": {},
   "source": [
    "## Test random datasets - (B-2 : level 2_0 쪽에만 10개 point data) \n",
    "- x : 125.06666668 ~ 126.7680555625\n",
    "- y : 33.11000000 ~ 34.44249999999"
   ]
  },
  {
   "cell_type": "code",
   "execution_count": 11,
   "id": "ac2f0cfb",
   "metadata": {},
   "outputs": [],
   "source": [
    "import random \n",
    "\n",
    "num= 30000   #30만개\n",
    "f = open(\"sample_data_300.txt\", 'w')\n",
    "for i in range(0,num): \n",
    "    x=random.uniform(125.06666668,131.87222221-((131.87222221-125.06666668)/4)*3)\n",
    "    y=random.uniform(33.11000000,38.44000000-((38.44000000-33.110000000)/4)*3)\n",
    "    f.write(\"p %f %f\\n\"%(x,y))\n",
    "\n",
    "f.close()\n"
   ]
  },
  {
   "cell_type": "code",
   "execution_count": 3,
   "id": "e3094fba",
   "metadata": {},
   "outputs": [
    {
     "data": {
      "text/plain": [
       "126.7680555625"
      ]
     },
     "execution_count": 3,
     "metadata": {},
     "output_type": "execute_result"
    }
   ],
   "source": [
    "131.87222221-((131.87222221-125.06666668)/4)*3"
   ]
  },
  {
   "cell_type": "code",
   "execution_count": 5,
   "id": "4af070dc",
   "metadata": {},
   "outputs": [
    {
     "data": {
      "text/plain": [
       "34.442499999999995"
      ]
     },
     "execution_count": 5,
     "metadata": {},
     "output_type": "execute_result"
    }
   ],
   "source": [
    "38.44000000-((38.44000000-33.110000000)/4)*3"
   ]
  },
  {
   "cell_type": "code",
   "execution_count": null,
   "id": "1d04178c",
   "metadata": {},
   "outputs": [],
   "source": []
  },
  {
   "cell_type": "code",
   "execution_count": 34,
   "id": "e432f78f",
   "metadata": {},
   "outputs": [
    {
     "data": {
      "text/plain": [
       "34.442499999999995"
      ]
     },
     "execution_count": 34,
     "metadata": {},
     "output_type": "execute_result"
    }
   ],
   "source": [
    "a = 38.44000000-((38.44000000-33.110000000)/4)*3\n",
    "a"
   ]
  },
  {
   "cell_type": "code",
   "execution_count": null,
   "id": "c4e14a5b",
   "metadata": {},
   "outputs": [],
   "source": []
  },
  {
   "cell_type": "markdown",
   "id": "62b5b33a",
   "metadata": {},
   "source": [
    "### --------level 1 2번째 구역"
   ]
  },
  {
   "cell_type": "code",
   "execution_count": null,
   "id": "43f5483c",
   "metadata": {},
   "outputs": [],
   "source": [
    "import random \n",
    "\n",
    "num= 30000   #30만개\n",
    "f = open(\"sample_data_300.txt\", 'w')\n",
    "for i in range(0,num): \n",
    "    x=random.uniform(125.06666668 + ((131.87222221-125.06666668)/4)*3, 131.87222221)\n",
    "    y=random.uniform(33.11000000,38.44000000-((38.44000000-33.110000000)/4)*3)\n",
    "    f.write(\"p %f %f\\n\"%(x,y))\n",
    "\n",
    "f.close()\n"
   ]
  },
  {
   "cell_type": "code",
   "execution_count": null,
   "id": "015d7a07",
   "metadata": {},
   "outputs": [],
   "source": []
  },
  {
   "cell_type": "markdown",
   "id": "0468512f",
   "metadata": {},
   "source": [
    "---\n",
    "ㅡㅡㅡㅡㅡㅡㅡㅡㅡㅡㅡㅡㅡㅡㅡㅡㅡㅡㅡㅡㅡㅡㅡㅡㅡㅡㅡㅡㅡㅡㅡㅡㅡㅡㅡㅡㅡㅡㅡㅡㅡㅡ\n",
    "---"
   ]
  },
  {
   "cell_type": "markdown",
   "id": "02e0951e",
   "metadata": {},
   "source": [
    "## Test random datasets - (C-1 : 1_2 ~ 1_3)\n",
    "- x : (128.4694444 ~ 131.87222221)\n",
    "- y : (33.11000000 ~ 38.44000000)"
   ]
  },
  {
   "cell_type": "code",
   "execution_count": 5,
   "id": "c50a1779",
   "metadata": {},
   "outputs": [
    {
     "name": "stdout",
     "output_type": "stream",
     "text": [
      "40000\n"
     ]
    }
   ],
   "source": [
    "import random \n",
    "\n",
    "num= int(input())\n",
    "f = open(\"sample_data.txt\", 'w')\n",
    "\n",
    "data_list = []\n",
    "\n",
    "# 1_2, 1_3부분\n",
    "for i in range(0,num): \n",
    "    x=random.uniform((131.87222221-(131.87222221-125.06666668)/2)+0.000000001,131.87222221)\n",
    "    y=random.uniform(33.11000000,38.44000000)\n",
    "    f.write(\"p %f %f\\n\"%(x,y))\n",
    "\n",
    "f.close()\n"
   ]
  },
  {
   "cell_type": "markdown",
   "id": "968dcfda",
   "metadata": {},
   "source": [
    "## Test random datasets - (C-1 : 1_0과 1_1의 일부분)\n",
    "- x : (125.06666668 ~ 126.7680555625)\n",
    "- y : (35.44249 ~ 37.775)"
   ]
  },
  {
   "cell_type": "code",
   "execution_count": 12,
   "id": "c4d57215",
   "metadata": {},
   "outputs": [],
   "source": [
    "import random \n",
    "\n",
    "num= 30000  # 30만개\n",
    "f = open(\"sample_data_4444.txt\", 'w')\n",
    "\n",
    "# 1_0 ~ 1_1의 일부분\n",
    "for i in range(0,num): \n",
    "    x=random.uniform(125.06666668,131.87222221-((131.87222221-125.06666668)/4)*3)\n",
    "    y=random.uniform(35.44249, 37.775)\n",
    "    f.write(\"p %f %f\\n\"%(x,y))\n",
    "    \n",
    "\n",
    "f.close()\n"
   ]
  },
  {
   "cell_type": "code",
   "execution_count": 4,
   "id": "97eb591a",
   "metadata": {},
   "outputs": [
    {
     "data": {
      "text/plain": [
       "126.7680555625"
      ]
     },
     "execution_count": 4,
     "metadata": {},
     "output_type": "execute_result"
    }
   ],
   "source": [
    "131.87222221-((131.87222221-125.06666668)/4)*3"
   ]
  },
  {
   "cell_type": "code",
   "execution_count": 9,
   "id": "76c99bd6",
   "metadata": {},
   "outputs": [
    {
     "data": {
      "text/plain": [
       "34.442499999999995"
      ]
     },
     "execution_count": 9,
     "metadata": {},
     "output_type": "execute_result"
    }
   ],
   "source": [
    "\n",
    "a=38.44000000-((38.44000000-33.110000000)/4)*3\n",
    "a\n"
   ]
  },
  {
   "cell_type": "code",
   "execution_count": null,
   "id": "ac76ec88",
   "metadata": {},
   "outputs": [],
   "source": []
  },
  {
   "cell_type": "code",
   "execution_count": null,
   "id": "4788719c",
   "metadata": {},
   "outputs": [],
   "source": []
  },
  {
   "cell_type": "code",
   "execution_count": null,
   "id": "f9086b1d",
   "metadata": {},
   "outputs": [],
   "source": []
  },
  {
   "cell_type": "code",
   "execution_count": null,
   "id": "5ee91aa2",
   "metadata": {},
   "outputs": [],
   "source": []
  },
  {
   "attachments": {
    "image-2.png": {
     "image/png": "[encoded data removed]"
    }
   },
   "cell_type": "markdown",
   "id": "e2aeec50",
   "metadata": {},
   "source": [
    "# 찐 클러스터 데이터셋 만들기\n",
    "\n",
    "![image-2.png](attachment:image-2.png)"
   ]
  },
  {
   "cell_type": "code",
   "execution_count": 7,
   "id": "dc75b6a8",
   "metadata": {},
   "outputs": [],
   "source": [
    "import random \n",
    "\n",
    "num= 2500000  # 40만\n",
    "f = open(\"sample_data_1.txt\", 'w')\n",
    "for i in range(0,num): \n",
    "    x=random.uniform((131.87222221-(131.87222221-125.06666668)/2)+0.000000001,131.87222221)\n",
    "    y=random.uniform((38.44000000-(38.44000000-33.110000000)/2)+0.000000001,38.44000000)\n",
    "    f.write(\"p %f %f\\n\"%(x,y))\n",
    "    \n",
    "\n",
    "num= 1250000   #30만개\n",
    "#f = open(\"sample_data_300.txt\", 'w')\n",
    "for i in range(0,num): \n",
    "    x=random.uniform(125.06666668,131.87222221-((131.87222221-125.06666668)/4)*3)\n",
    "    y=random.uniform(33.11000000,38.44000000-((38.44000000-33.110000000)/4)*3)\n",
    "    f.write(\"p %f %f\\n\"%(x,y))\n",
    "    \n",
    "\n",
    "num= 1250000   #30만개\n",
    "#f = open(\"sample_data_300.txt\", 'w')\n",
    "for i in range(0,num): \n",
    "    x=random.uniform(125.06666668 + ((131.87222221-125.06666668)/4)*3, 131.87222221)\n",
    "    y=random.uniform(33.11000000,38.44000000-((38.44000000-33.110000000)/4)*3)\n",
    "    f.write(\"p %f %f\\n\"%(x,y))\n",
    "\n",
    "f.close()"
   ]
  },
  {
   "cell_type": "code",
   "execution_count": null,
   "id": "bfa4f6f6",
   "metadata": {},
   "outputs": [],
   "source": [
    "x"
   ]
  },
  {
   "cell_type": "code",
   "execution_count": 14,
   "id": "fa504a22",
   "metadata": {},
   "outputs": [
    {
     "data": {
      "text/plain": [
       "(128.46944444599998, 131.87222221)"
      ]
     },
     "execution_count": 14,
     "metadata": {},
     "output_type": "execute_result"
    }
   ],
   "source": [
    "(131.87222221-(131.87222221-125.06666668)/2)+0.000000001,131.87222221"
   ]
  },
  {
   "cell_type": "code",
   "execution_count": null,
   "id": "2adaa57b",
   "metadata": {},
   "outputs": [],
   "source": [
    "y"
   ]
  },
  {
   "cell_type": "code",
   "execution_count": 15,
   "id": "7ffc1234",
   "metadata": {},
   "outputs": [
    {
     "data": {
      "text/plain": [
       "(35.775000000999995, 38.44)"
      ]
     },
     "execution_count": 15,
     "metadata": {},
     "output_type": "execute_result"
    }
   ],
   "source": [
    "(38.44000000-(38.44000000-33.110000000)/2)+0.000000001,38.44000000"
   ]
  },
  {
   "cell_type": "code",
   "execution_count": null,
   "id": "dd257350",
   "metadata": {},
   "outputs": [],
   "source": [
    "x"
   ]
  },
  {
   "cell_type": "code",
   "execution_count": 10,
   "id": "0cbaae0f",
   "metadata": {},
   "outputs": [
    {
     "data": {
      "text/plain": [
       "(125.06666668, 126.7680555625)"
      ]
     },
     "execution_count": 10,
     "metadata": {},
     "output_type": "execute_result"
    }
   ],
   "source": [
    "125.06666668,131.87222221-((131.87222221-125.06666668)/4)*3"
   ]
  },
  {
   "cell_type": "code",
   "execution_count": null,
   "id": "0b53f7be",
   "metadata": {},
   "outputs": [],
   "source": [
    "y"
   ]
  },
  {
   "cell_type": "code",
   "execution_count": 11,
   "id": "8261a98a",
   "metadata": {},
   "outputs": [
    {
     "data": {
      "text/plain": [
       "(33.11, 34.442499999999995)"
      ]
     },
     "execution_count": 11,
     "metadata": {},
     "output_type": "execute_result"
    }
   ],
   "source": [
    "33.11000000,38.44000000-((38.44000000-33.110000000)/4)*3"
   ]
  },
  {
   "cell_type": "code",
   "execution_count": null,
   "id": "0b8c411d",
   "metadata": {},
   "outputs": [],
   "source": [
    "x"
   ]
  },
  {
   "cell_type": "code",
   "execution_count": 12,
   "id": "090ed6d2",
   "metadata": {},
   "outputs": [
    {
     "data": {
      "text/plain": [
       "(130.1708333275, 131.87222221)"
      ]
     },
     "execution_count": 12,
     "metadata": {},
     "output_type": "execute_result"
    }
   ],
   "source": [
    "125.06666668 + ((131.87222221-125.06666668)/4)*3, 131.87222221"
   ]
  },
  {
   "cell_type": "code",
   "execution_count": null,
   "id": "a0cba558",
   "metadata": {},
   "outputs": [],
   "source": [
    "y"
   ]
  },
  {
   "cell_type": "code",
   "execution_count": 13,
   "id": "be2b3af1",
   "metadata": {},
   "outputs": [
    {
     "data": {
      "text/plain": [
       "(33.11, 34.442499999999995)"
      ]
     },
     "execution_count": 13,
     "metadata": {},
     "output_type": "execute_result"
    }
   ],
   "source": [
    "33.11000000,38.44000000-((38.44000000-33.110000000)/4)*3"
   ]
  }
 ],
 "metadata": {
  "kernelspec": {
   "display_name": "Python 3 (ipykernel)",
   "language": "python",
   "name": "python3"
  },
  "language_info": {
   "codemirror_mode": {
    "name": "ipython",
    "version": 3
   },
   "file_extension": ".py",
   "mimetype": "text/x-python",
   "name": "python",
   "nbconvert_exporter": "python",
   "pygments_lexer": "ipython3",
   "version": "3.9.7"
  }
 },
 "nbformat": 4,
 "nbformat_minor": 5
}
